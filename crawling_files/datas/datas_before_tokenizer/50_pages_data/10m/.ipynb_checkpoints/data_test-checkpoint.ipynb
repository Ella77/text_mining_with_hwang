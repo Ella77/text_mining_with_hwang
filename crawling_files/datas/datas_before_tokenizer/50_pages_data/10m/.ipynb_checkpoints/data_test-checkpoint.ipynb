{
 "cells": [
  {
   "cell_type": "code",
   "execution_count": 1,
   "metadata": {},
   "outputs": [],
   "source": [
    "import pandas as pd\n",
    "import csv"
   ]
  },
  {
   "cell_type": "code",
   "execution_count": 2,
   "metadata": {},
   "outputs": [
    {
     "name": "stdout",
     "output_type": "stream",
     "text": [
      "25099\n"
     ]
    }
   ],
   "source": [
    "data = pd.read_csv('economy_news_10m.csv')\n",
    "print(len(data.iloc[:,0]))"
   ]
  },
  {
   "cell_type": "code",
   "execution_count": 3,
   "metadata": {},
   "outputs": [
    {
     "name": "stdout",
     "output_type": "stream",
     "text": [
      "31850\n"
     ]
    }
   ],
   "source": [
    "data = pd.read_csv('entertain_news_10m.csv')\n",
    "print(len(data.iloc[:,0]))"
   ]
  },
  {
   "cell_type": "code",
   "execution_count": 4,
   "metadata": {},
   "outputs": [
    {
     "name": "stdout",
     "output_type": "stream",
     "text": [
      "20551\n"
     ]
    }
   ],
   "source": [
    "data = pd.read_csv('IT_news_10m.csv')\n",
    "print(len(data.iloc[:,0]))"
   ]
  },
  {
   "cell_type": "code",
   "execution_count": 5,
   "metadata": {},
   "outputs": [
    {
     "name": "stdout",
     "output_type": "stream",
     "text": [
      "25186\n"
     ]
    }
   ],
   "source": [
    "data = pd.read_csv('policy_news_10m.csv')\n",
    "\n",
    "print(len(data.iloc[:,0]))"
   ]
  },
  {
   "cell_type": "markdown",
   "metadata": {},
   "source": [
    "# 제거 테스트\n",
    "\n",
    "# 이게 아마 \" 때문이라고 한다.\n",
    "http://pydonesia.blogspot.com/2017/02/pandas-workaround-of-cparseerror-error.html\n",
    "\n",
    "https://github.com/pandas-dev/pandas/issues/22140\n",
    "\n",
    "https://github.com/pandas-dev/pandas/issues/5500"
   ]
  },
  {
   "cell_type": "markdown",
   "metadata": {},
   "source": [
    "즉, ** csv 한줄 한줄 읽어 와서 \"와 '를 제거한다."
   ]
  },
  {
   "cell_type": "code",
   "execution_count": 40,
   "metadata": {},
   "outputs": [
    {
     "name": "stdout",
     "output_type": "stream",
     "text": [
      "11\n",
      "17504\n",
      "17504\n",
      "17504\n"
     ]
    }
   ],
   "source": [
    "title, date, content = [], [], []\n",
    "with open(\"IT_news_7m.csv\", \"r\", encoding='utf8') as f:\n",
    "    reader = csv.reader(f, delimiter=\",\", quotechar='\"')\n",
    "    try:\n",
    "        for i, line in enumerate(reader):\n",
    "            if i < 2: continue\n",
    "            t = line[0].replace('\"', \"\")\n",
    "            d = line[1]\n",
    "            c = line[2].replace('\"', \"\")\n",
    "            title.append(t)\n",
    "            date.append(d)\n",
    "            content.append(c)\n",
    "    except:\n",
    "        print(\"11\")\n",
    "print(len(title))\n",
    "print(len(date))\n",
    "print(len(content))"
   ]
  },
  {
   "cell_type": "code",
   "execution_count": 41,
   "metadata": {},
   "outputs": [],
   "source": [
    "with open('./IT_news_7m_after.csv', 'a', encoding='utf-8', newline='') as f:\n",
    "    writer = csv.writer(f)\n",
    "    for cnt, i in enumerate(title):\n",
    "        title_ = title[cnt]\n",
    "        date_ = date[cnt]\n",
    "        content_ = content[cnt]\n",
    "\n",
    "        writer.writerow((title_, date_, content_))"
   ]
  },
  {
   "cell_type": "code",
   "execution_count": 42,
   "metadata": {},
   "outputs": [
    {
     "name": "stdout",
     "output_type": "stream",
     "text": [
      "17504\n"
     ]
    }
   ],
   "source": [
    "data = pd.read_csv('IT_news_7m_after.csv')\n",
    "print(len(data.iloc[:,0]))"
   ]
  },
  {
   "cell_type": "code",
   "execution_count": 43,
   "metadata": {},
   "outputs": [
    {
     "name": "stdout",
     "output_type": "stream",
     "text": [
      "11\n",
      "25932\n",
      "25932\n",
      "25932\n"
     ]
    }
   ],
   "source": [
    "title, date, content = [], [], []\n",
    "with open(\"policy_news_7m.csv\", \"r\", encoding='utf8') as f:\n",
    "    reader = csv.reader(f, delimiter=\",\")\n",
    "    try:\n",
    "        for i, line in enumerate(reader):\n",
    "            if i < 2: continue\n",
    "            t = line[0].replace('\"', \"\")\n",
    "            d = line[1]\n",
    "            c = line[2].replace('\"', \"\")\n",
    "            title.append(t)\n",
    "            date.append(d)\n",
    "            content.append(c)\n",
    "    except:\n",
    "        print(\"11\")\n",
    "print(len(title))\n",
    "print(len(date))\n",
    "print(len(content))"
   ]
  },
  {
   "cell_type": "code",
   "execution_count": 44,
   "metadata": {},
   "outputs": [],
   "source": [
    "with open('./policy_news_7m_after.csv', 'a', encoding='utf-8', newline='') as f:\n",
    "    writer = csv.writer(f)\n",
    "    for cnt, i in enumerate(title):\n",
    "        title_ = title[cnt]\n",
    "        date_ = date[cnt]\n",
    "        content_ = content[cnt]\n",
    "\n",
    "        writer.writerow((title_, date_, content_))"
   ]
  },
  {
   "cell_type": "code",
   "execution_count": 45,
   "metadata": {},
   "outputs": [
    {
     "name": "stdout",
     "output_type": "stream",
     "text": [
      "25932\n"
     ]
    }
   ],
   "source": [
    "data = pd.read_csv('policy_news_7m_after.csv')\n",
    "print(len(data.iloc[:,0]))"
   ]
  },
  {
   "cell_type": "code",
   "execution_count": null,
   "metadata": {},
   "outputs": [],
   "source": []
  }
 ],
 "metadata": {
  "kernelspec": {
   "display_name": "Python 3",
   "language": "python",
   "name": "python3"
  },
  "language_info": {
   "codemirror_mode": {
    "name": "ipython",
    "version": 3
   },
   "file_extension": ".py",
   "mimetype": "text/x-python",
   "name": "python",
   "nbconvert_exporter": "python",
   "pygments_lexer": "ipython3",
   "version": "3.6.5"
  }
 },
 "nbformat": 4,
 "nbformat_minor": 2
}
