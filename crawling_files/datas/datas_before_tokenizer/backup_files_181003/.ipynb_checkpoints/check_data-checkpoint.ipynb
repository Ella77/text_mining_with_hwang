{
 "cells": [
  {
   "cell_type": "code",
   "execution_count": 1,
   "metadata": {},
   "outputs": [],
   "source": [
    "import pandas as pd\n",
    "import csv"
   ]
  },
  {
   "cell_type": "code",
   "execution_count": 2,
   "metadata": {},
   "outputs": [
    {
     "name": "stdout",
     "output_type": "stream",
     "text": [
      "                                    title        date  \\\n",
      "0           美 5월 실업률 3.8% 최저…年4회 금리인상에 무게       신문A8면   \n",
      "1         檢, '채용비리 의혹' 윤종규 KB금융 회장 지난달 소환  2018-06-01   \n",
      "2  검찰, '채용비리' 의혹 윤종규 KB금융지주 회장 지난달 소환(종합)  2018-06-01   \n",
      "3        대한항공 직원연대, 홍대서 시민과 '갑질근절' 목소리 높여  2018-06-01   \n",
      "4            '채용비리 의혹' 함영주 하나은행장 구속영장 기각   2018-06-01   \n",
      "\n",
      "                                             content  \n",
      "0  \\r\\n\\r\\n\\r\\n\\r\\n\\r\\n// flash 오류를 우회하기 위한 함수 추가...  \n",
      "1  \\r\\n\\r\\n\\r\\n\\r\\n\\r\\n// flash 오류를 우회하기 위한 함수 추가...  \n",
      "2  \\r\\n\\r\\n\\r\\n\\r\\n\\r\\n// flash 오류를 우회하기 위한 함수 추가...  \n",
      "3  \\r\\n\\r\\n\\r\\n\\r\\n\\r\\n// flash 오류를 우회하기 위한 함수 추가...  \n",
      "4  \\r\\n\\r\\n\\r\\n\\r\\n\\r\\n// flash 오류를 우회하기 위한 함수 추가...  \n"
     ]
    }
   ],
   "source": [
    "df = pd.read_csv('./economy_news.csv')\n",
    "print(df.head())"
   ]
  },
  {
   "cell_type": "code",
   "execution_count": 3,
   "metadata": {},
   "outputs": [
    {
     "ename": "ParserError",
     "evalue": "Error tokenizing data. C error: EOF inside string starting at line 36239",
     "output_type": "error",
     "traceback": [
      "\u001b[1;31m---------------------------------------------------------------------------\u001b[0m",
      "\u001b[1;31mParserError\u001b[0m                               Traceback (most recent call last)",
      "\u001b[1;32m<ipython-input-3-0501bbc7a34b>\u001b[0m in \u001b[0;36m<module>\u001b[1;34m()\u001b[0m\n\u001b[1;32m----> 1\u001b[1;33m \u001b[0mdf2\u001b[0m \u001b[1;33m=\u001b[0m \u001b[0mpd\u001b[0m\u001b[1;33m.\u001b[0m\u001b[0mread_csv\u001b[0m\u001b[1;33m(\u001b[0m\u001b[1;34m'./entertain_news.csv'\u001b[0m\u001b[1;33m)\u001b[0m\u001b[1;33m\u001b[0m\u001b[0m\n\u001b[0m\u001b[0;32m      2\u001b[0m \u001b[0mprint\u001b[0m\u001b[1;33m(\u001b[0m\u001b[0mdf2\u001b[0m\u001b[1;33m.\u001b[0m\u001b[0mhead\u001b[0m\u001b[1;33m(\u001b[0m\u001b[1;33m)\u001b[0m\u001b[1;33m)\u001b[0m\u001b[1;33m\u001b[0m\u001b[0m\n",
      "\u001b[1;32m~\\Anaconda3\\lib\\site-packages\\pandas\\io\\parsers.py\u001b[0m in \u001b[0;36mparser_f\u001b[1;34m(filepath_or_buffer, sep, delimiter, header, names, index_col, usecols, squeeze, prefix, mangle_dupe_cols, dtype, engine, converters, true_values, false_values, skipinitialspace, skiprows, nrows, na_values, keep_default_na, na_filter, verbose, skip_blank_lines, parse_dates, infer_datetime_format, keep_date_col, date_parser, dayfirst, iterator, chunksize, compression, thousands, decimal, lineterminator, quotechar, quoting, escapechar, comment, encoding, dialect, tupleize_cols, error_bad_lines, warn_bad_lines, skipfooter, doublequote, delim_whitespace, low_memory, memory_map, float_precision)\u001b[0m\n\u001b[0;32m    676\u001b[0m                     skip_blank_lines=skip_blank_lines)\n\u001b[0;32m    677\u001b[0m \u001b[1;33m\u001b[0m\u001b[0m\n\u001b[1;32m--> 678\u001b[1;33m         \u001b[1;32mreturn\u001b[0m \u001b[0m_read\u001b[0m\u001b[1;33m(\u001b[0m\u001b[0mfilepath_or_buffer\u001b[0m\u001b[1;33m,\u001b[0m \u001b[0mkwds\u001b[0m\u001b[1;33m)\u001b[0m\u001b[1;33m\u001b[0m\u001b[0m\n\u001b[0m\u001b[0;32m    679\u001b[0m \u001b[1;33m\u001b[0m\u001b[0m\n\u001b[0;32m    680\u001b[0m     \u001b[0mparser_f\u001b[0m\u001b[1;33m.\u001b[0m\u001b[0m__name__\u001b[0m \u001b[1;33m=\u001b[0m \u001b[0mname\u001b[0m\u001b[1;33m\u001b[0m\u001b[0m\n",
      "\u001b[1;32m~\\Anaconda3\\lib\\site-packages\\pandas\\io\\parsers.py\u001b[0m in \u001b[0;36m_read\u001b[1;34m(filepath_or_buffer, kwds)\u001b[0m\n\u001b[0;32m    444\u001b[0m \u001b[1;33m\u001b[0m\u001b[0m\n\u001b[0;32m    445\u001b[0m     \u001b[1;32mtry\u001b[0m\u001b[1;33m:\u001b[0m\u001b[1;33m\u001b[0m\u001b[0m\n\u001b[1;32m--> 446\u001b[1;33m         \u001b[0mdata\u001b[0m \u001b[1;33m=\u001b[0m \u001b[0mparser\u001b[0m\u001b[1;33m.\u001b[0m\u001b[0mread\u001b[0m\u001b[1;33m(\u001b[0m\u001b[0mnrows\u001b[0m\u001b[1;33m)\u001b[0m\u001b[1;33m\u001b[0m\u001b[0m\n\u001b[0m\u001b[0;32m    447\u001b[0m     \u001b[1;32mfinally\u001b[0m\u001b[1;33m:\u001b[0m\u001b[1;33m\u001b[0m\u001b[0m\n\u001b[0;32m    448\u001b[0m         \u001b[0mparser\u001b[0m\u001b[1;33m.\u001b[0m\u001b[0mclose\u001b[0m\u001b[1;33m(\u001b[0m\u001b[1;33m)\u001b[0m\u001b[1;33m\u001b[0m\u001b[0m\n",
      "\u001b[1;32m~\\Anaconda3\\lib\\site-packages\\pandas\\io\\parsers.py\u001b[0m in \u001b[0;36mread\u001b[1;34m(self, nrows)\u001b[0m\n\u001b[0;32m   1034\u001b[0m                 \u001b[1;32mraise\u001b[0m \u001b[0mValueError\u001b[0m\u001b[1;33m(\u001b[0m\u001b[1;34m'skipfooter not supported for iteration'\u001b[0m\u001b[1;33m)\u001b[0m\u001b[1;33m\u001b[0m\u001b[0m\n\u001b[0;32m   1035\u001b[0m \u001b[1;33m\u001b[0m\u001b[0m\n\u001b[1;32m-> 1036\u001b[1;33m         \u001b[0mret\u001b[0m \u001b[1;33m=\u001b[0m \u001b[0mself\u001b[0m\u001b[1;33m.\u001b[0m\u001b[0m_engine\u001b[0m\u001b[1;33m.\u001b[0m\u001b[0mread\u001b[0m\u001b[1;33m(\u001b[0m\u001b[0mnrows\u001b[0m\u001b[1;33m)\u001b[0m\u001b[1;33m\u001b[0m\u001b[0m\n\u001b[0m\u001b[0;32m   1037\u001b[0m \u001b[1;33m\u001b[0m\u001b[0m\n\u001b[0;32m   1038\u001b[0m         \u001b[1;31m# May alter columns / col_dict\u001b[0m\u001b[1;33m\u001b[0m\u001b[1;33m\u001b[0m\u001b[0m\n",
      "\u001b[1;32m~\\Anaconda3\\lib\\site-packages\\pandas\\io\\parsers.py\u001b[0m in \u001b[0;36mread\u001b[1;34m(self, nrows)\u001b[0m\n\u001b[0;32m   1846\u001b[0m     \u001b[1;32mdef\u001b[0m \u001b[0mread\u001b[0m\u001b[1;33m(\u001b[0m\u001b[0mself\u001b[0m\u001b[1;33m,\u001b[0m \u001b[0mnrows\u001b[0m\u001b[1;33m=\u001b[0m\u001b[1;32mNone\u001b[0m\u001b[1;33m)\u001b[0m\u001b[1;33m:\u001b[0m\u001b[1;33m\u001b[0m\u001b[0m\n\u001b[0;32m   1847\u001b[0m         \u001b[1;32mtry\u001b[0m\u001b[1;33m:\u001b[0m\u001b[1;33m\u001b[0m\u001b[0m\n\u001b[1;32m-> 1848\u001b[1;33m             \u001b[0mdata\u001b[0m \u001b[1;33m=\u001b[0m \u001b[0mself\u001b[0m\u001b[1;33m.\u001b[0m\u001b[0m_reader\u001b[0m\u001b[1;33m.\u001b[0m\u001b[0mread\u001b[0m\u001b[1;33m(\u001b[0m\u001b[0mnrows\u001b[0m\u001b[1;33m)\u001b[0m\u001b[1;33m\u001b[0m\u001b[0m\n\u001b[0m\u001b[0;32m   1849\u001b[0m         \u001b[1;32mexcept\u001b[0m \u001b[0mStopIteration\u001b[0m\u001b[1;33m:\u001b[0m\u001b[1;33m\u001b[0m\u001b[0m\n\u001b[0;32m   1850\u001b[0m             \u001b[1;32mif\u001b[0m \u001b[0mself\u001b[0m\u001b[1;33m.\u001b[0m\u001b[0m_first_chunk\u001b[0m\u001b[1;33m:\u001b[0m\u001b[1;33m\u001b[0m\u001b[0m\n",
      "\u001b[1;32mpandas\\_libs\\parsers.pyx\u001b[0m in \u001b[0;36mpandas._libs.parsers.TextReader.read\u001b[1;34m()\u001b[0m\n",
      "\u001b[1;32mpandas\\_libs\\parsers.pyx\u001b[0m in \u001b[0;36mpandas._libs.parsers.TextReader._read_low_memory\u001b[1;34m()\u001b[0m\n",
      "\u001b[1;32mpandas\\_libs\\parsers.pyx\u001b[0m in \u001b[0;36mpandas._libs.parsers.TextReader._read_rows\u001b[1;34m()\u001b[0m\n",
      "\u001b[1;32mpandas\\_libs\\parsers.pyx\u001b[0m in \u001b[0;36mpandas._libs.parsers.TextReader._tokenize_rows\u001b[1;34m()\u001b[0m\n",
      "\u001b[1;32mpandas\\_libs\\parsers.pyx\u001b[0m in \u001b[0;36mpandas._libs.parsers.raise_parser_error\u001b[1;34m()\u001b[0m\n",
      "\u001b[1;31mParserError\u001b[0m: Error tokenizing data. C error: EOF inside string starting at line 36239"
     ]
    }
   ],
   "source": [
    "df2 = pd.read_csv('./entertain_news.csv')\n",
    "print(df2.head())"
   ]
  },
  {
   "cell_type": "code",
   "execution_count": null,
   "metadata": {},
   "outputs": [],
   "source": []
  },
  {
   "cell_type": "code",
   "execution_count": 6,
   "metadata": {},
   "outputs": [
    {
     "name": "stdout",
     "output_type": "stream",
     "text": [
      "13406\n",
      "                                       title        date  \\\n",
      "0        OECD \"한국 소득하위 10%, 중간계층 진입에 5세대 소요\"  2018-07-01   \n",
      "1                  한국 등 5개국, 사우디 원전 예비사업자 선정  2018-07-01   \n",
      "2            aT, 한국식품 남아공 수출 도전장…현지서 세일즈 로드쇼  2018-07-01   \n",
      "3      인천공항공사 SK텔레콤 업무협약… 연내 티맵으로 최적 주차경로 안내  2018-07-01   \n",
      "4  농촌진흥청 태풍 긴급대책회의 \"물에 잠긴 벼, 조금이라도 공기 노출시켜야\"  2018-07-01   \n",
      "\n",
      "                                             content  \n",
      "0  \\r\\n\\r\\n\\r\\n\\r\\n\\r\\n// flash 오류를 우회하기 위한 함수 추가...  \n",
      "1  \\r\\n\\r\\n\\r\\n\\r\\n\\r\\n// flash 오류를 우회하기 위한 함수 추가...  \n",
      "2  \\r\\n\\r\\n\\r\\n\\r\\n\\r\\n// flash 오류를 우회하기 위한 함수 추가...  \n",
      "3  \\r\\n\\r\\n\\r\\n\\r\\n\\r\\n// flash 오류를 우회하기 위한 함수 추가...  \n",
      "4  \\r\\n\\r\\n\\r\\n\\r\\n\\r\\n// flash 오류를 우회하기 위한 함수 추가...  \n"
     ]
    }
   ],
   "source": [
    "df2 = pd.read_csv('./economy_news7_1.csv')\n",
    "print(len(df2.iloc[:,0].values))\n",
    "print(df2.head())"
   ]
  },
  {
   "cell_type": "code",
   "execution_count": 7,
   "metadata": {},
   "outputs": [
    {
     "name": "stdout",
     "output_type": "stream",
     "text": [
      "14417\n",
      "                                     title        date  \\\n",
      "0                  동원F&B, 식품연구소 서울 강남으로 이전  2018-07-16   \n",
      "1          IMF “세계경제 성장세 지속…유럽·일본은 성장세 둔화”  2018-07-16   \n",
      "2  잇단 ‘기체 결함’ 아시아나 국제선 줄줄이 지연…내일(17일)까지 차질  2018-07-16   \n",
      "3               편의점 수익구조 어떻기에…인건비 올리면 망한다?  2018-07-16   \n",
      "4             어쩌다 ‘편의점 공화국’이 됐나…사실상 출점 무제한  2018-07-16   \n",
      "\n",
      "                                             content  \n",
      "0  \\r\\n\\r\\n\\r\\n\\r\\n\\r\\n// flash 오류를 우회하기 위한 함수 추가...  \n",
      "1  \\r\\n\\r\\n\\r\\n\\r\\n\\r\\n// flash 오류를 우회하기 위한 함수 추가...  \n",
      "2  \\r\\n\\r\\n\\r\\n\\r\\n\\r\\n// flash 오류를 우회하기 위한 함수 추가...  \n",
      "3  \\r\\n\\r\\n\\r\\n\\r\\n\\r\\n// flash 오류를 우회하기 위한 함수 추가...  \n",
      "4  \\r\\n\\r\\n\\r\\n\\r\\n\\r\\n// flash 오류를 우회하기 위한 함수 추가...  \n"
     ]
    }
   ],
   "source": [
    "df2 = pd.read_csv('./economy_news7_2.csv')\n",
    "print(len(df2.iloc[:,0].values))\n",
    "print(df2.head())"
   ]
  },
  {
   "cell_type": "code",
   "execution_count": 8,
   "metadata": {},
   "outputs": [
    {
     "name": "stdout",
     "output_type": "stream",
     "text": [
      "36749\n",
      "                                               title        date  \\\n",
      "0  \\r\\n\\t\\t\\t[라이프 온 마스 동영상]정경호 88년에 온 이유..믿었던 아버지...  2018.07.01   \n",
      "1  \\r\\n\\t\\t\\t한혜진 웨딩드레스 입고, 기성용의 키스에 행복한 표정 [포토] -...  2018.07.01   \n",
      "2  \\r\\n\\t\\t\\t‘복면가왕’ 뉴이스트W 백호, 제주도 길거리 캐스팅 공개\\r\\n\\t\\t  2018.07.01   \n",
      "3        \\r\\n\\t\\t\\t방탄소년단 '페이크 러브' 유튜브 2억뷰 돌파\\r\\n\\t\\t  2018.07.01   \n",
      "4  \\r\\n\\t\\t\\t[라이프 온 마스 동영상]\"태주야!\" 전석호 죽인 남자의 정체는?...  2018.07.01   \n",
      "\n",
      "                                             content  \n",
      "0  \\r\\n\\r\\n\\t\\t\\t\\t\\r\\n\\t\\t\\t\\t\\t\\r\\n\\t\\t\\t\\t\\r\\n...  \n",
      "1  \\r\\n\\r\\n이미지 원본보기\\r\\n▲한혜진 웨딩드레스[엑스포츠뉴스 = 김성진 기자...  \n",
      "2  \\r\\n\\r\\n\\t\\t\\t\\t\\r\\n\\t\\t\\t\\t\\t\\r\\n\\t\\t\\t\\t\\r\\n...  \n",
      "3  \\r\\n\\r\\n이미지 원본보기\\r\\n(서울=연합뉴스) 그룹 방탄소년단의 '페이크 러...  \n",
      "4  \\r\\n\\r\\n\\t\\t\\t\\t\\r\\n\\t\\t\\t\\t\\t\\r\\n\\t\\t\\t\\t\\r\\n...  \n"
     ]
    }
   ],
   "source": [
    "df2 = pd.read_csv('./entertain_news7.csv')\n",
    "print(len(df2.iloc[:,0].values))\n",
    "print(df2.head())"
   ]
  },
  {
   "cell_type": "code",
   "execution_count": 28,
   "metadata": {},
   "outputs": [
    {
     "name": "stdout",
     "output_type": "stream",
     "text": [
      "21973\n",
      "                                       title        date  \\\n",
      "0                    세종대 \"신구 총장 사익 추구 전혀 없어\"  2018-06-01   \n",
      "1          [서울경제TV][체험기] LG전자 스마트폰 G7 씽큐 써보니  2018-06-01   \n",
      "2                  문체부 \"미래지향적 '게임 선용 정책' 필요\"  2018-06-01   \n",
      "3  게임 학술대회 개최 …문화부 조현래 국장 “게임 포비아 극복은 당면과제”   2018-06-01   \n",
      "4                [모바일한경] 연남동 ‘제주맥주 팝업’ 가보니 등       신문A2면   \n",
      "\n",
      "                                             content  \n",
      "0  \\r\\n\\r\\n\\r\\n\\r\\n\\r\\n// flash 오류를 우회하기 위한 함수 추가...  \n",
      "1  \\r\\n\\r\\n\\r\\n\\r\\n\\r\\n// flash 오류를 우회하기 위한 함수 추가...  \n",
      "2  \\r\\n\\r\\n\\r\\n\\r\\n\\r\\n// flash 오류를 우회하기 위한 함수 추가...  \n",
      "3  \\r\\n\\r\\n\\r\\n\\r\\n\\r\\n// flash 오류를 우회하기 위한 함수 추가...  \n",
      "4  \\r\\n\\r\\n\\r\\n\\r\\n\\r\\n// flash 오류를 우회하기 위한 함수 추가...  \n"
     ]
    }
   ],
   "source": [
    "df2 = pd.read_csv('./IT_news.csv')\n",
    "print(len(df2.iloc[:,0].values))\n",
    "print(df2.head())"
   ]
  },
  {
   "cell_type": "code",
   "execution_count": 27,
   "metadata": {},
   "outputs": [
    {
     "ename": "ParserError",
     "evalue": "Error tokenizing data. C error: EOF inside string starting at line 15814",
     "output_type": "error",
     "traceback": [
      "\u001b[1;31m---------------------------------------------------------------------------\u001b[0m",
      "\u001b[1;31mParserError\u001b[0m                               Traceback (most recent call last)",
      "\u001b[1;32m<ipython-input-27-54b6bfb22867>\u001b[0m in \u001b[0;36m<module>\u001b[1;34m()\u001b[0m\n\u001b[1;32m----> 1\u001b[1;33m \u001b[0mdf2\u001b[0m \u001b[1;33m=\u001b[0m \u001b[0mpd\u001b[0m\u001b[1;33m.\u001b[0m\u001b[0mread_csv\u001b[0m\u001b[1;33m(\u001b[0m\u001b[1;34m'./IT_news7.csv'\u001b[0m\u001b[1;33m)\u001b[0m\u001b[1;33m\u001b[0m\u001b[0m\n\u001b[0m\u001b[0;32m      2\u001b[0m \u001b[0mprint\u001b[0m\u001b[1;33m(\u001b[0m\u001b[0mlen\u001b[0m\u001b[1;33m(\u001b[0m\u001b[0mdf2\u001b[0m\u001b[1;33m.\u001b[0m\u001b[0miloc\u001b[0m\u001b[1;33m[\u001b[0m\u001b[1;33m:\u001b[0m\u001b[1;33m,\u001b[0m\u001b[1;36m0\u001b[0m\u001b[1;33m]\u001b[0m\u001b[1;33m.\u001b[0m\u001b[0mvalues\u001b[0m\u001b[1;33m)\u001b[0m\u001b[1;33m)\u001b[0m\u001b[1;33m\u001b[0m\u001b[0m\n",
      "\u001b[1;32m~\\Anaconda3\\lib\\site-packages\\pandas\\io\\parsers.py\u001b[0m in \u001b[0;36mparser_f\u001b[1;34m(filepath_or_buffer, sep, delimiter, header, names, index_col, usecols, squeeze, prefix, mangle_dupe_cols, dtype, engine, converters, true_values, false_values, skipinitialspace, skiprows, nrows, na_values, keep_default_na, na_filter, verbose, skip_blank_lines, parse_dates, infer_datetime_format, keep_date_col, date_parser, dayfirst, iterator, chunksize, compression, thousands, decimal, lineterminator, quotechar, quoting, escapechar, comment, encoding, dialect, tupleize_cols, error_bad_lines, warn_bad_lines, skipfooter, doublequote, delim_whitespace, low_memory, memory_map, float_precision)\u001b[0m\n\u001b[0;32m    676\u001b[0m                     skip_blank_lines=skip_blank_lines)\n\u001b[0;32m    677\u001b[0m \u001b[1;33m\u001b[0m\u001b[0m\n\u001b[1;32m--> 678\u001b[1;33m         \u001b[1;32mreturn\u001b[0m \u001b[0m_read\u001b[0m\u001b[1;33m(\u001b[0m\u001b[0mfilepath_or_buffer\u001b[0m\u001b[1;33m,\u001b[0m \u001b[0mkwds\u001b[0m\u001b[1;33m)\u001b[0m\u001b[1;33m\u001b[0m\u001b[0m\n\u001b[0m\u001b[0;32m    679\u001b[0m \u001b[1;33m\u001b[0m\u001b[0m\n\u001b[0;32m    680\u001b[0m     \u001b[0mparser_f\u001b[0m\u001b[1;33m.\u001b[0m\u001b[0m__name__\u001b[0m \u001b[1;33m=\u001b[0m \u001b[0mname\u001b[0m\u001b[1;33m\u001b[0m\u001b[0m\n",
      "\u001b[1;32m~\\Anaconda3\\lib\\site-packages\\pandas\\io\\parsers.py\u001b[0m in \u001b[0;36m_read\u001b[1;34m(filepath_or_buffer, kwds)\u001b[0m\n\u001b[0;32m    444\u001b[0m \u001b[1;33m\u001b[0m\u001b[0m\n\u001b[0;32m    445\u001b[0m     \u001b[1;32mtry\u001b[0m\u001b[1;33m:\u001b[0m\u001b[1;33m\u001b[0m\u001b[0m\n\u001b[1;32m--> 446\u001b[1;33m         \u001b[0mdata\u001b[0m \u001b[1;33m=\u001b[0m \u001b[0mparser\u001b[0m\u001b[1;33m.\u001b[0m\u001b[0mread\u001b[0m\u001b[1;33m(\u001b[0m\u001b[0mnrows\u001b[0m\u001b[1;33m)\u001b[0m\u001b[1;33m\u001b[0m\u001b[0m\n\u001b[0m\u001b[0;32m    447\u001b[0m     \u001b[1;32mfinally\u001b[0m\u001b[1;33m:\u001b[0m\u001b[1;33m\u001b[0m\u001b[0m\n\u001b[0;32m    448\u001b[0m         \u001b[0mparser\u001b[0m\u001b[1;33m.\u001b[0m\u001b[0mclose\u001b[0m\u001b[1;33m(\u001b[0m\u001b[1;33m)\u001b[0m\u001b[1;33m\u001b[0m\u001b[0m\n",
      "\u001b[1;32m~\\Anaconda3\\lib\\site-packages\\pandas\\io\\parsers.py\u001b[0m in \u001b[0;36mread\u001b[1;34m(self, nrows)\u001b[0m\n\u001b[0;32m   1034\u001b[0m                 \u001b[1;32mraise\u001b[0m \u001b[0mValueError\u001b[0m\u001b[1;33m(\u001b[0m\u001b[1;34m'skipfooter not supported for iteration'\u001b[0m\u001b[1;33m)\u001b[0m\u001b[1;33m\u001b[0m\u001b[0m\n\u001b[0;32m   1035\u001b[0m \u001b[1;33m\u001b[0m\u001b[0m\n\u001b[1;32m-> 1036\u001b[1;33m         \u001b[0mret\u001b[0m \u001b[1;33m=\u001b[0m \u001b[0mself\u001b[0m\u001b[1;33m.\u001b[0m\u001b[0m_engine\u001b[0m\u001b[1;33m.\u001b[0m\u001b[0mread\u001b[0m\u001b[1;33m(\u001b[0m\u001b[0mnrows\u001b[0m\u001b[1;33m)\u001b[0m\u001b[1;33m\u001b[0m\u001b[0m\n\u001b[0m\u001b[0;32m   1037\u001b[0m \u001b[1;33m\u001b[0m\u001b[0m\n\u001b[0;32m   1038\u001b[0m         \u001b[1;31m# May alter columns / col_dict\u001b[0m\u001b[1;33m\u001b[0m\u001b[1;33m\u001b[0m\u001b[0m\n",
      "\u001b[1;32m~\\Anaconda3\\lib\\site-packages\\pandas\\io\\parsers.py\u001b[0m in \u001b[0;36mread\u001b[1;34m(self, nrows)\u001b[0m\n\u001b[0;32m   1846\u001b[0m     \u001b[1;32mdef\u001b[0m \u001b[0mread\u001b[0m\u001b[1;33m(\u001b[0m\u001b[0mself\u001b[0m\u001b[1;33m,\u001b[0m \u001b[0mnrows\u001b[0m\u001b[1;33m=\u001b[0m\u001b[1;32mNone\u001b[0m\u001b[1;33m)\u001b[0m\u001b[1;33m:\u001b[0m\u001b[1;33m\u001b[0m\u001b[0m\n\u001b[0;32m   1847\u001b[0m         \u001b[1;32mtry\u001b[0m\u001b[1;33m:\u001b[0m\u001b[1;33m\u001b[0m\u001b[0m\n\u001b[1;32m-> 1848\u001b[1;33m             \u001b[0mdata\u001b[0m \u001b[1;33m=\u001b[0m \u001b[0mself\u001b[0m\u001b[1;33m.\u001b[0m\u001b[0m_reader\u001b[0m\u001b[1;33m.\u001b[0m\u001b[0mread\u001b[0m\u001b[1;33m(\u001b[0m\u001b[0mnrows\u001b[0m\u001b[1;33m)\u001b[0m\u001b[1;33m\u001b[0m\u001b[0m\n\u001b[0m\u001b[0;32m   1849\u001b[0m         \u001b[1;32mexcept\u001b[0m \u001b[0mStopIteration\u001b[0m\u001b[1;33m:\u001b[0m\u001b[1;33m\u001b[0m\u001b[0m\n\u001b[0;32m   1850\u001b[0m             \u001b[1;32mif\u001b[0m \u001b[0mself\u001b[0m\u001b[1;33m.\u001b[0m\u001b[0m_first_chunk\u001b[0m\u001b[1;33m:\u001b[0m\u001b[1;33m\u001b[0m\u001b[0m\n",
      "\u001b[1;32mpandas\\_libs\\parsers.pyx\u001b[0m in \u001b[0;36mpandas._libs.parsers.TextReader.read\u001b[1;34m()\u001b[0m\n",
      "\u001b[1;32mpandas\\_libs\\parsers.pyx\u001b[0m in \u001b[0;36mpandas._libs.parsers.TextReader._read_low_memory\u001b[1;34m()\u001b[0m\n",
      "\u001b[1;32mpandas\\_libs\\parsers.pyx\u001b[0m in \u001b[0;36mpandas._libs.parsers.TextReader._read_rows\u001b[1;34m()\u001b[0m\n",
      "\u001b[1;32mpandas\\_libs\\parsers.pyx\u001b[0m in \u001b[0;36mpandas._libs.parsers.TextReader._tokenize_rows\u001b[1;34m()\u001b[0m\n",
      "\u001b[1;32mpandas\\_libs\\parsers.pyx\u001b[0m in \u001b[0;36mpandas._libs.parsers.raise_parser_error\u001b[1;34m()\u001b[0m\n",
      "\u001b[1;31mParserError\u001b[0m: Error tokenizing data. C error: EOF inside string starting at line 15814"
     ]
    }
   ],
   "source": [
    "df2 = pd.read_csv('./IT_news7.csv')\n",
    "print(len(df2.iloc[:,0].values))"
   ]
  },
  {
   "cell_type": "code",
   "execution_count": 10,
   "metadata": {},
   "outputs": [
    {
     "name": "stdout",
     "output_type": "stream",
     "text": [
      "28645\n",
      "                                        title        date  \\\n",
      "0  이재명, SNS에 직접 해명 \"김부선과 진위 가릴 진실 '녹취파일'에 있다\"  2018-06-01   \n",
      "1                     [슬라이드 포토] 옮겨지는 투표함과 기표대  2018-06-01   \n",
      "2                南기자 “엄중사태 해결됐나” 리선권 “무례한 질문”       신문A2면   \n",
      "3             北통신 \"북미, 아직 초보적 신뢰도 없어…발언 신중해야\"  2018-06-01   \n",
      "4                존재감 부각 힘쓰는 군소정당…\"나도 서울시장 후보\"  2018-06-01   \n",
      "\n",
      "                                             content  \n",
      "0  \\r\\n\\r\\n\\r\\n\\r\\n\\r\\n// flash 오류를 우회하기 위한 함수 추가...  \n",
      "1  \\r\\n\\r\\n\\r\\n\\r\\n\\r\\n// flash 오류를 우회하기 위한 함수 추가...  \n",
      "2  \\r\\n\\r\\n\\r\\n\\r\\n\\r\\n// flash 오류를 우회하기 위한 함수 추가...  \n",
      "3  \\r\\n\\r\\n\\r\\n\\r\\n\\r\\n// flash 오류를 우회하기 위한 함수 추가...  \n",
      "4  \\r\\n\\r\\n\\r\\n\\r\\n동영상 뉴스\\r\\n\\r\\n\\r\\n\\r\\n\\r\\n// f...  \n"
     ]
    }
   ],
   "source": [
    "df2 = pd.read_csv('./policy_news.csv')\n",
    "print(len(df2.iloc[:,0].values))\n",
    "print(df2.head())"
   ]
  },
  {
   "cell_type": "code",
   "execution_count": 9,
   "metadata": {},
   "outputs": [
    {
     "name": "stdout",
     "output_type": "stream",
     "text": [
      "28665\n",
      "                                 title        date  \\\n",
      "0  폭우로 2명 사상…집·차·논밭 잠기고 땅길·하늘길도 막혀(종합)  2018-07-01   \n",
      "1                 북한 핵프로그램 대부분 1년내 해체?  2018-07-01   \n",
      "2           외교차관, 위안부 피해 김복득 할머니 빈소 조문  2018-07-01   \n",
      "3         외교 1차관, 위안부 피해 김복득 할머니 빈소 조문  2018-07-01   \n",
      "4   ‘성소수자 의무채용’ 인터넷 자료에 이재명 “발언 왜곡한 것”  2018-07-01   \n",
      "\n",
      "                                             content  \n",
      "0  \\r\\n\\r\\n\\r\\n\\r\\n\\r\\n// flash 오류를 우회하기 위한 함수 추가...  \n",
      "1  \\r\\n\\r\\n\\r\\n\\r\\n\\r\\n// flash 오류를 우회하기 위한 함수 추가...  \n",
      "2  \\r\\n\\r\\n\\r\\n\\r\\n\\r\\n// flash 오류를 우회하기 위한 함수 추가...  \n",
      "3  \\r\\n\\r\\n\\r\\n\\r\\n\\r\\n// flash 오류를 우회하기 위한 함수 추가...  \n",
      "4  \\r\\n\\r\\n\\r\\n\\r\\n\\r\\n// flash 오류를 우회하기 위한 함수 추가...  \n"
     ]
    }
   ],
   "source": [
    "df2 = pd.read_csv('./policy_news7.csv')\n",
    "print(len(df2.iloc[:,0].values))\n",
    "print(df2.head())"
   ]
  },
  {
   "cell_type": "code",
   "execution_count": null,
   "metadata": {},
   "outputs": [],
   "source": []
  }
 ],
 "metadata": {
  "kernelspec": {
   "display_name": "Python 3",
   "language": "python",
   "name": "python3"
  },
  "language_info": {
   "codemirror_mode": {
    "name": "ipython",
    "version": 3
   },
   "file_extension": ".py",
   "mimetype": "text/x-python",
   "name": "python",
   "nbconvert_exporter": "python",
   "pygments_lexer": "ipython3",
   "version": "3.6.5"
  }
 },
 "nbformat": 4,
 "nbformat_minor": 2
}
