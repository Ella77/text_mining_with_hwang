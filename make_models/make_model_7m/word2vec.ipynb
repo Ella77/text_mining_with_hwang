{
 "cells": [
  {
   "cell_type": "code",
   "execution_count": 1,
   "metadata": {},
   "outputs": [
    {
     "name": "stderr",
     "output_type": "stream",
     "text": [
      "C:\\Users\\leesoojin\\Anaconda3\\lib\\site-packages\\gensim\\utils.py:1209: UserWarning: detected Windows; aliasing chunkize to chunkize_serial\n",
      "  warnings.warn(\"detected Windows; aliasing chunkize to chunkize_serial\")\n"
     ]
    }
   ],
   "source": [
    "from gensim.models import word2vec\n",
    "import glob, os\n",
    "import pandas as pd\n",
    "import numpy as np\n",
    "data_array = []\n"
   ]
  },
  {
   "cell_type": "code",
   "execution_count": 2,
   "metadata": {},
   "outputs": [],
   "source": [
    "data = pd.read_csv('7m_after_prepro.csv')\n",
    "#data2 = pd.read_csv('7m_after_prepro.csv')\n",
    "#이렇게 여러개를 해서 값을 가지고 온다.\n",
    "X = data.iloc[:, 1].values"
   ]
  },
  {
   "cell_type": "code",
   "execution_count": 3,
   "metadata": {},
   "outputs": [
    {
     "name": "stdout",
     "output_type": "stream",
     "text": [
      "서울 경제 체 험기 전자 스마트폰 씽 큐 써 오류 우회 위한 함수 추가 서울 경제 앵커 지난달 전자 은 프리미엄 스마트폰 씽 큐 스마트폰 부문 사령탑 온 황정환 부사장 작품 전자 스마트폰 부진 발판 마련 주목 됐 다시 말 해 오디오 배터리 카메라 디스플레이 본질 집중 했 밝힌 씽 큐 이보경 기자 직접 써 기자 전자 전략 스마트폰 씽 큐 비슷 좀 더 날렵 느낌 크기 폭 높이 두께 전작 좀 더 길 있 베젤 줄여 디스플레이 상하 길 뺀 시원 느낌 논란 됐 던 액정 상단 는 노치 디자인 전자 이 세컨드 스크린 호불호 거슬린다면 설정 세컨드 스크린 검 은 화면 다음 집중 했 다는 오디오 기본 하이파이 쿼드 제공 여기 서 라운 딩 사운드 효과 음장 기술 더 했 또 없 던 사운드 프리 잔향 조정 는 디지털 필터 기능 이퀄라이저 기능 역시 음향 전자 여기 더 추가 붐 박스 기능 싱 큐 핸드폰 전체 사운드 울림통 사용 음량 최대 울림통 더 상자 위 올려 사운드 크기 는 동시 울림 확실히 웬만 블루투스 스피커 필요 없 다는 말 절로 배터리 용량 배터리 탑재 돼 언뜻 평이 스냅드래곤 전력 절감 기능 들어가 소프트웨어 개선 해 소비 전력 효율 높였 전자 홈페이지 씽 큐 경우 연속 통화 시간 연속 대기 시간 가능 카메라 곳 밝 촬영 해 는 슈퍼 브라이트 기능 카메라 광각 아웃포커스 기능 스마트폰 탑재 기본 카메라 전문가 은 사진 완성 우선 광각 스마트폰 전매특허 셀카 을 때 특히 편하 다는 느낌 광각 모드 셀 카봉 든 주변 풍경 한눈 또 전작 광각 기능 사용 사물 왜곡 는 현상 나타났었 부분 많이 개선 돼 왜곡 없이 는 확인 카메라 다양 사진 어플 사용 는 기자 매력 기본 카메라 사용 는 이용자 셀링 포인트 될 햄버거 카메라 음식 는다는 스스로 인식 합니다 음식 는 필터 씌워 또 음식 는 필터 가지 선택 폭 줘서 가장 적합 색감 찾아낼 있 디스플레이 디스플레이 가장 눈 는 점 슈퍼 브라이트 디스플레이 햇빛 쨍 날 핸드폰 회사 앞 나가 화면 가장 밝 여전히 어둡 는 확인 여기 부스트 기능 화면 확실히 밝 골프 야외 활동 는 이용자 유용 지난주 감자 던 논란 차치 비교 해 화질 전혀 는다는 한눈 잡다 기능 전화 문자 가장 많이 사용 는 스마트폰 본질 집중 씽 큐 폰 전자 스마트폰 도약 발판 충분 이보경 기자 영상 취재 허재호 영상 편집 이한얼 서울 경제 바로 지방 선거 판세 및 관전 포인트 바로 이제 주식 시세 서울경제 확인 바로 저작권자 서울 경제 무단 전재 및 배포 금지 \n"
     ]
    }
   ],
   "source": [
    "print(X[0])"
   ]
  },
  {
   "cell_type": "code",
   "execution_count": 4,
   "metadata": {},
   "outputs": [],
   "source": [
    "#각 요소씩 돌면서 split하고 2차원 배열 형태로 넣어준다. -> 이걸 나중에 월 별로 다 진행하면 된다.\n",
    "for x in X:\n",
    "    data = x.split(\" \")\n",
    "    data_array.append(data)"
   ]
  },
  {
   "cell_type": "code",
   "execution_count": 5,
   "metadata": {},
   "outputs": [],
   "source": [
    "#벡터화 진행\n",
    "model = word2vec.Word2Vec(data_array, size=150, window=10, min_count=20, iter=50, sg=1)\n",
    "model.save(\"./word2vec.model\")"
   ]
  },
  {
   "cell_type": "code",
   "execution_count": 7,
   "metadata": {},
   "outputs": [
    {
     "name": "stdout",
     "output_type": "stream",
     "text": [
      "단어를 입력해보세요! : 문재인\n"
     ]
    },
    {
     "name": "stderr",
     "output_type": "stream",
     "text": [
      "C:\\Users\\leesoojin\\Anaconda3\\lib\\site-packages\\ipykernel_launcher.py:11: DeprecationWarning: Call to deprecated `most_similar` (Method will be removed in 4.0.0, use self.wv.most_similar() instead).\n",
      "  # This is added back by InteractiveShellApp.init_path()\n",
      "C:\\Users\\leesoojin\\Anaconda3\\lib\\site-packages\\gensim\\matutils.py:737: FutureWarning: Conversion of the second argument of issubdtype from `int` to `np.signedinteger` is deprecated. In future, it will be treated as `np.int32 == np.dtype(int).type`.\n",
      "  if np.issubdtype(vec.dtype, np.int):\n"
     ]
    },
    {
     "name": "stdout",
     "output_type": "stream",
     "text": [
      "[('문재', 0.9246371984481812), ('대통령', 0.8784629106521606), ('문', 0.8078853487968445), ('청와대', 0.7211777567863464), ('정부', 0.7000154256820679), ('일', 0.6235041618347168), ('국빈', 0.6034646034240723), ('했', 0.5939080715179443), ('는', 0.5884029865264893), ('해', 0.5744293928146362)]\n",
      "단어를 입력해보세요! : 김정은\n",
      "[('김정', 0.8531040549278259), ('북한', 0.755860447883606), ('국무', 0.7264699935913086), ('김정일', 0.6822994351387024), ('친서', 0.6611613035202026), ('트럼프', 0.6602544188499451), ('폼페이', 0.6408413052558899), ('북', 0.6339883804321289), ('시찰', 0.618015468120575), ('신의주', 0.6076563000679016)]\n",
      "단어를 입력해보세요! : 태풍\n",
      "[('북상', 0.8676554560661316), ('집중호우', 0.7757748365402222), ('호우', 0.7597485780715942), ('장마', 0.7416000962257385), ('기상청', 0.7125817537307739), ('강풍', 0.6589902639389038), ('산사태', 0.6230036020278931), ('피해', 0.6044800281524658), ('비상근무', 0.6034145355224609), ('재난', 0.5971966981887817)]\n",
      "단어를 입력해보세요! : SKT\n",
      "해당 되는 단어가 없습니다.\n",
      "단어를 입력해보세요! : KT\n",
      "해당 되는 단어가 없습니다.\n",
      "단어를 입력해보세요! : SK\n",
      "[('텔레콤', 0.8838911652565002), ('하이닉스', 0.6787397265434265), ('브로드밴드', 0.5895102620124817), ('엘지', 0.5150749087333679), ('이노베이션', 0.4969286322593689), ('현대차', 0.4959731101989746), ('박정호', 0.4819907546043396), ('스토아', 0.4733999967575073), ('삼성전자', 0.47247716784477234), ('텍', 0.46988537907600403)]\n",
      "단어를 입력해보세요! : 황정민\n",
      "[('이성민', 0.680070161819458), ('조진웅', 0.6624115705490112), ('윤종빈', 0.6250795722007751), ('흑금', 0.6147947311401367), ('김혜수', 0.6080785989761353), ('아수라', 0.5803000330924988), ('주지훈', 0.561780571937561), ('윤제균', 0.5548349618911743), ('공작', 0.5301139950752258), ('암호명', 0.5013420581817627)]\n",
      "단어를 입력해보세요! : 영화\n",
      "[('감독', 0.7238972187042236), ('개봉', 0.7044225931167603), ('작품', 0.6656208634376526), ('관객', 0.660834789276123), ('할리우드', 0.6227045059204102), ('상영', 0.6219578981399536), ('배우', 0.6085127592086792), ('김용화', 0.5961006879806519), ('배급', 0.5878032445907593), ('주연', 0.5822199583053589)]\n",
      "단어를 입력해보세요! : \n"
     ]
    }
   ],
   "source": [
    "model = word2vec.Word2Vec.load(\"./word2vec.model\")\n",
    "'''\n",
    "#print(model.similar_by_vector(\"개\", topn=10))\n",
    "for word, value in model.wv.vocab.items():\n",
    "    print(word, value) #value.count등으로 접근 가능'''\n",
    "while True:\n",
    "    word = input(\"단어를 입력해보세요! : \")\n",
    "    if word == \"\":\n",
    "        break\n",
    "    try:\n",
    "        print(model.most_similar(positive=[word]))\n",
    "    except:\n",
    "        print(\"해당 되는 단어가 없습니다.\")"
   ]
  },
  {
   "cell_type": "code",
   "execution_count": null,
   "metadata": {},
   "outputs": [],
   "source": []
  }
 ],
 "metadata": {
  "kernelspec": {
   "display_name": "Python 3",
   "language": "python",
   "name": "python3"
  },
  "language_info": {
   "codemirror_mode": {
    "name": "ipython",
    "version": 3
   },
   "file_extension": ".py",
   "mimetype": "text/x-python",
   "name": "python",
   "nbconvert_exporter": "python",
   "pygments_lexer": "ipython3",
   "version": "3.6.5"
  }
 },
 "nbformat": 4,
 "nbformat_minor": 2
}
