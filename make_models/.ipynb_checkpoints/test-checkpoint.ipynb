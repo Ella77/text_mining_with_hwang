{
 "cells": [
  {
   "cell_type": "code",
   "execution_count": 1,
   "metadata": {},
   "outputs": [
    {
     "name": "stderr",
     "output_type": "stream",
     "text": [
      "Using TensorFlow backend.\n"
     ]
    }
   ],
   "source": [
    "from keras.preprocessing.text import Tokenizer\n",
    "from keras.preprocessing.sequence import pad_sequences\n",
    "from keras.preprocessing import sequence\n",
    "import os, json, glob, sys, numpy as np\n",
    "import pandas as pd\n"
   ]
  },
  {
   "cell_type": "code",
   "execution_count": 3,
   "metadata": {},
   "outputs": [],
   "source": [
    "import pickle\n",
    "# loading\n",
    "with open('./181012/tokenizer.pickle', 'rb') as handle:\n",
    "    tok = pickle.load(handle)"
   ]
  },
  {
   "cell_type": "code",
   "execution_count": 6,
   "metadata": {},
   "outputs": [],
   "source": [
    "from keras.models import load_model\n",
    "model = load_model('./model/hwang_lstm.model')"
   ]
  },
  {
   "cell_type": "code",
   "execution_count": 14,
   "metadata": {},
   "outputs": [],
   "source": [
    "str = ['문재인 대통령 트럼프 대선 당선 홍준표 한국당 대한미국당 미국 한국 북한 일본 중국 삼중일체 회의 간담회 평화 협정 통일 대박 박근혜 구속 영장 청구 법원 법정 대박 붙잡 했 자유 민주 민주당 문재인 대통령 잘한다 대한민국 화이팅 문재인 대통령 트럼프 대선 당선 홍준표 한국당 대한미국당 미국 한국 북한 일본 중국 삼중일체 회의 간담회 평화 협정 통일 대박 박근혜 구속 영장 청구 법원 법정 대박 붙잡 했 자유 민주 민주당 문재인 대통령 잘한다 대한민국 화이팅 문재인 대통령 트럼프 대선 당선 홍준표 한국당 대한미국당 미국 한국 북한 일본 중국 삼중일체 회의 간담회 평화 협정 통일 대박 박근혜 구속 영장 청구 법원 법정 대박 붙잡 했 자유 민주 민주당 문재인 대통령 잘한다 대한민국 화이팅']\n"
   ]
  },
  {
   "cell_type": "code",
   "execution_count": 15,
   "metadata": {},
   "outputs": [],
   "source": [
    "sequences_6m = tok.texts_to_sequences(str)"
   ]
  },
  {
   "cell_type": "code",
   "execution_count": 16,
   "metadata": {},
   "outputs": [
    {
     "name": "stdout",
     "output_type": "stream",
     "text": [
      "[[247, 24, 144, 1135, 602, 709, 38, 25, 37, 243, 92, 177, 707, 126, 1340, 986, 5754, 1313, 1567, 2541, 1849, 1184, 2732, 5754, 1, 119, 538, 69, 247, 24, 541, 247, 24, 144, 1135, 602, 709, 38, 25, 37, 243, 92, 177, 707, 126, 1340, 986, 5754, 1313, 1567, 2541, 1849, 1184, 2732, 5754, 1, 119, 538, 69, 247, 24, 541, 247, 24, 144, 1135, 602, 709, 38, 25, 37, 243, 92, 177, 707, 126, 1340, 986, 5754, 1313, 1567, 2541, 1849, 1184, 2732, 5754, 1, 119, 538, 69, 247, 24, 541]]\n"
     ]
    }
   ],
   "source": [
    "print(sequences_6m)"
   ]
  },
  {
   "cell_type": "code",
   "execution_count": 17,
   "metadata": {},
   "outputs": [],
   "source": [
    "sequences_matrix_6m = sequence.pad_sequences(sequences_6m, maxlen=500)"
   ]
  },
  {
   "cell_type": "code",
   "execution_count": 18,
   "metadata": {},
   "outputs": [
    {
     "name": "stdout",
     "output_type": "stream",
     "text": [
      "[[   0    0    0    0    0    0    0    0    0    0    0    0    0    0\n",
      "     0    0    0    0    0    0    0    0    0    0    0    0    0    0\n",
      "     0    0    0    0    0    0    0    0    0    0    0    0    0    0\n",
      "     0    0    0    0    0    0    0    0    0    0    0    0    0    0\n",
      "     0    0    0    0    0    0    0    0    0    0    0    0    0    0\n",
      "     0    0    0    0    0    0    0    0    0    0    0    0    0    0\n",
      "     0    0    0    0    0    0    0    0    0    0    0    0    0    0\n",
      "     0    0    0    0    0    0    0    0    0    0    0    0    0    0\n",
      "     0    0    0    0    0    0    0    0    0    0    0    0    0    0\n",
      "     0    0    0    0    0    0    0    0    0    0    0    0    0    0\n",
      "     0    0    0    0    0    0    0    0    0    0    0    0    0    0\n",
      "     0    0    0    0    0    0    0    0    0    0    0    0    0    0\n",
      "     0    0    0    0    0    0    0    0    0    0    0    0    0    0\n",
      "     0    0    0    0    0    0    0    0    0    0    0    0    0    0\n",
      "     0    0    0    0    0    0    0    0    0    0    0    0    0    0\n",
      "     0    0    0    0    0    0    0    0    0    0    0    0    0    0\n",
      "     0    0    0    0    0    0    0    0    0    0    0    0    0    0\n",
      "     0    0    0    0    0    0    0    0    0    0    0    0    0    0\n",
      "     0    0    0    0    0    0    0    0    0    0    0    0    0    0\n",
      "     0    0    0    0    0    0    0    0    0    0    0    0    0    0\n",
      "     0    0    0    0    0    0    0    0    0    0    0    0    0    0\n",
      "     0    0    0    0    0    0    0    0    0    0    0    0    0    0\n",
      "     0    0    0    0    0    0    0    0    0    0    0    0    0    0\n",
      "     0    0    0    0    0    0    0    0    0    0    0    0    0    0\n",
      "     0    0    0    0    0    0    0    0    0    0    0    0    0    0\n",
      "     0    0    0    0    0    0    0    0    0    0    0    0    0    0\n",
      "     0    0    0    0    0    0    0    0    0    0    0    0    0    0\n",
      "     0    0    0    0    0    0    0    0    0    0    0    0    0    0\n",
      "     0    0    0    0    0    0    0    0    0    0    0    0    0    0\n",
      "     0  247   24  144 1135  602  709   38   25   37  243   92  177  707\n",
      "   126 1340  986 5754 1313 1567 2541 1849 1184 2732 5754    1  119  538\n",
      "    69  247   24  541  247   24  144 1135  602  709   38   25   37  243\n",
      "    92  177  707  126 1340  986 5754 1313 1567 2541 1849 1184 2732 5754\n",
      "     1  119  538   69  247   24  541  247   24  144 1135  602  709   38\n",
      "    25   37  243   92  177  707  126 1340  986 5754 1313 1567 2541 1849\n",
      "  1184 2732 5754    1  119  538   69  247   24  541]]\n"
     ]
    }
   ],
   "source": [
    "print(sequences_matrix_6m)"
   ]
  },
  {
   "cell_type": "code",
   "execution_count": 19,
   "metadata": {},
   "outputs": [
    {
     "data": {
      "text/plain": [
       "array([0], dtype=int64)"
      ]
     },
     "execution_count": 19,
     "metadata": {},
     "output_type": "execute_result"
    }
   ],
   "source": [
    "model.predict_classes(sequences_matrix_6m)"
   ]
  },
  {
   "cell_type": "code",
   "execution_count": 21,
   "metadata": {},
   "outputs": [
    {
     "name": "stdout",
     "output_type": "stream",
     "text": [
      "[[2627, 436, 737, 1997, 1369, 4568, 805, 1951, 684, 752, 684, 383, 328, 2627, 436, 1329, 2627, 436, 737, 1997, 1369, 4568, 805, 1951, 684, 752, 684, 383, 328, 2627, 436, 1329]]\n"
     ]
    },
    {
     "data": {
      "text/plain": [
       "array([2], dtype=int64)"
      ]
     },
     "execution_count": 21,
     "metadata": {},
     "output_type": "execute_result"
    }
   ],
   "source": [
    "str = ['안드로이드 스마트폰 갤럭시 새롭게 탄생 아이폰 쓰레기 애플 컴퓨터 보안 장비 보안 이슈 블록체인 안드로이드 스마트폰 성능 안드로이드 스마트폰 갤럭시 새롭게 탄생 아이폰 쓰레기 애플 컴퓨터 보안 장비 보안 이슈 블록체인 안드로이드 스마트폰 성능']\n",
    "sequences_6m = tok.texts_to_sequences(str)\n",
    "print(sequences_6m)\n",
    "sequences_matrix_6m = sequence.pad_sequences(sequences_6m, maxlen=500)\n",
    "model.predict_classes(sequences_matrix_6m)"
   ]
  },
  {
   "cell_type": "code",
   "execution_count": null,
   "metadata": {},
   "outputs": [],
   "source": []
  }
 ],
 "metadata": {
  "kernelspec": {
   "display_name": "Python 3",
   "language": "python",
   "name": "python3"
  },
  "language_info": {
   "codemirror_mode": {
    "name": "ipython",
    "version": 3
   },
   "file_extension": ".py",
   "mimetype": "text/x-python",
   "name": "python",
   "nbconvert_exporter": "python",
   "pygments_lexer": "ipython3",
   "version": "3.6.5"
  }
 },
 "nbformat": 4,
 "nbformat_minor": 2
}
