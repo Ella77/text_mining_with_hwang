{
 "cells": [
  {
   "cell_type": "code",
   "execution_count": 1,
   "metadata": {},
   "outputs": [
    {
     "name": "stderr",
     "output_type": "stream",
     "text": [
      "C:\\Users\\leesoojin\\Anaconda3\\lib\\site-packages\\gensim\\utils.py:1209: UserWarning: detected Windows; aliasing chunkize to chunkize_serial\n",
      "  warnings.warn(\"detected Windows; aliasing chunkize to chunkize_serial\")\n"
     ]
    }
   ],
   "source": [
    "from gensim.models import word2vec\n",
    "import glob, os\n",
    "import pandas as pd\n",
    "import numpy as np\n",
    "data_array = []\n"
   ]
  },
  {
   "cell_type": "code",
   "execution_count": 2,
   "metadata": {},
   "outputs": [
    {
     "data": {
      "text/plain": [
       "\"\\ndata = pd.read_csv('7m_after_prepro.csv')\\n#data2 = pd.read_csv('7m_after_prepro.csv')\\n#이렇게 여러개를 해서 값을 가지고 온다.\\nX = data.iloc[:, 1].values\""
      ]
     },
     "execution_count": 2,
     "metadata": {},
     "output_type": "execute_result"
    }
   ],
   "source": [
    "'''\n",
    "data = pd.read_csv('7m_after_prepro.csv')\n",
    "#data2 = pd.read_csv('7m_after_prepro.csv')\n",
    "#이렇게 여러개를 해서 값을 가지고 온다.\n",
    "X = data.iloc[:, 1].values'''"
   ]
  },
  {
   "cell_type": "code",
   "execution_count": null,
   "metadata": {},
   "outputs": [],
   "source": [
    "data_6m = pd.read_csv('../../datas_after_tokenizer/6m/6m_after_prepro.csv')\n",
    "data_7m = pd.read_csv('../../datas_after_tokenizer/7m/7m_after_prepro.csv')\n",
    "data_8m = pd.read_csv('../../datas_after_tokenizer/8m/8m_after_prepro.csv')\n",
    "data_9m = pd.read_csv('../../datas_after_tokenizer/9m/9m_after_prepro.csv')"
   ]
  },
  {
   "cell_type": "code",
   "execution_count": null,
   "metadata": {},
   "outputs": [],
   "source": [
    "X_6m = data_6m.iloc[:, 1].values\n",
    "X_7m = data_7m.iloc[:, 1].values\n",
    "X_8m = data_8m.iloc[:, 1].values\n",
    "X_9m = data_9m.iloc[:, 1].values"
   ]
  },
  {
   "cell_type": "code",
   "execution_count": null,
   "metadata": {},
   "outputs": [],
   "source": [
    "print(X_6m[0])"
   ]
  },
  {
   "cell_type": "code",
   "execution_count": null,
   "metadata": {},
   "outputs": [],
   "source": [
    "#각 요소씩 돌면서 split하고 2차원 배열 형태로 넣어준다. -> 이걸 나중에 월 별로 다 진행하면 된다.\n",
    "cnt = 1\n",
    "for data in [X_6m, X_7m, X_8m, X_9m]:\n",
    "    print(cnt)\n",
    "    for x in data:\n",
    "        data = x.split(\" \")\n",
    "        data_array.append(data)\n",
    "    model = word2vec.Word2Vec(data_array, size=150, window=10, min_count=20, iter=5, sg=1)\n",
    "    cnt += 1"
   ]
  },
  {
   "cell_type": "code",
   "execution_count": null,
   "metadata": {},
   "outputs": [],
   "source": [
    "#벡터화 진행\n",
    "model.save(\"./word2vec.model\")\n",
    "print('done')"
   ]
  },
  {
   "cell_type": "code",
   "execution_count": null,
   "metadata": {},
   "outputs": [],
   "source": [
    "model = word2vec.Word2Vec.load(\"./word2vec.model\")\n",
    "'''\n",
    "#print(model.similar_by_vector(\"개\", topn=10))\n",
    "for word, value in model.wv.vocab.items():\n",
    "    print(word, value) #value.count등으로 접근 가능'''\n",
    "while True:\n",
    "    word = input(\"단어를 입력해보세요! : \")\n",
    "    if word == \"\":\n",
    "        break\n",
    "    try:\n",
    "        print(model.most_similar(positive=[word]))\n",
    "    except:\n",
    "        print(\"해당 되는 단어가 없습니다.\")"
   ]
  },
  {
   "cell_type": "code",
   "execution_count": null,
   "metadata": {},
   "outputs": [],
   "source": []
  }
 ],
 "metadata": {
  "kernelspec": {
   "display_name": "Python 3",
   "language": "python",
   "name": "python3"
  },
  "language_info": {
   "codemirror_mode": {
    "name": "ipython",
    "version": 3
   },
   "file_extension": ".py",
   "mimetype": "text/x-python",
   "name": "python",
   "nbconvert_exporter": "python",
   "pygments_lexer": "ipython3",
   "version": "3.6.5"
  }
 },
 "nbformat": 4,
 "nbformat_minor": 2
}
