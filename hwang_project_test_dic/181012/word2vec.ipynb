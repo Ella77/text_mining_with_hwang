{
 "cells": [
  {
   "cell_type": "code",
   "execution_count": 1,
   "metadata": {},
   "outputs": [
    {
     "name": "stderr",
     "output_type": "stream",
     "text": [
      "C:\\Users\\leesoojin\\Anaconda3\\lib\\site-packages\\gensim\\utils.py:1209: UserWarning: detected Windows; aliasing chunkize to chunkize_serial\n",
      "  warnings.warn(\"detected Windows; aliasing chunkize to chunkize_serial\")\n"
     ]
    }
   ],
   "source": [
    "from gensim.models import word2vec\n",
    "import glob, os\n",
    "import pandas as pd\n",
    "import numpy as np\n",
    "data_array = []\n"
   ]
  },
  {
   "cell_type": "code",
   "execution_count": 2,
   "metadata": {},
   "outputs": [
    {
     "data": {
      "text/plain": [
       "\"\\ndata = pd.read_csv('7m_after_prepro.csv')\\n#data2 = pd.read_csv('7m_after_prepro.csv')\\n#이렇게 여러개를 해서 값을 가지고 온다.\\nX = data.iloc[:, 1].values\""
      ]
     },
     "execution_count": 2,
     "metadata": {},
     "output_type": "execute_result"
    }
   ],
   "source": [
    "'''\n",
    "data = pd.read_csv('7m_after_prepro.csv')\n",
    "#data2 = pd.read_csv('7m_after_prepro.csv')\n",
    "#이렇게 여러개를 해서 값을 가지고 온다.\n",
    "X = data.iloc[:, 1].values'''"
   ]
  },
  {
   "cell_type": "code",
   "execution_count": 3,
   "metadata": {},
   "outputs": [],
   "source": [
    "data_6m = pd.read_csv('../../datas_after_tokenizer/6m/6m_after_prepro.csv')\n",
    "data_7m = pd.read_csv('../../datas_after_tokenizer/7m/7m_after_prepro.csv')\n",
    "data_8m = pd.read_csv('../../datas_after_tokenizer/8m/8m_after_prepro.csv')\n",
    "data_9m = pd.read_csv('../../datas_after_tokenizer/9m/9m_after_prepro.csv')"
   ]
  },
  {
   "cell_type": "code",
   "execution_count": 4,
   "metadata": {},
   "outputs": [],
   "source": [
    "X_6m = data_6m.iloc[:, 1].values\n",
    "X_7m = data_7m.iloc[:, 1].values\n",
    "X_8m = data_8m.iloc[:, 1].values\n",
    "X_9m = data_9m.iloc[:, 1].values"
   ]
  },
  {
   "cell_type": "code",
   "execution_count": 5,
   "metadata": {},
   "outputs": [
    {
     "name": "stdout",
     "output_type": "stream",
     "text": [
      "채용 비리 의혹 윤종규 금융 회장 지난달 소환 오류 우회 위한 함수 추가 머니 투데이 변 휘 기자 국민은행 채용 비리 의혹 관련 해 윤종규 금융 지주 회장 검찰 조사 서울 남부 지검 형사 부 부장 검사 김종오 윤 회장 업무 방해 혐의 지난달 일 피의자 신분 조사 했 일 금융 감독원 지난 월 은행 채용 비리 검사 진행 결과 국민은행 채용 비리 정황 건 발견 검찰 수사 의뢰 했 윤 회장 종손녀 채용 의혹 포함 됐 이 따라 검찰 지난 월 윤 회장 집무실 자택 압수수색 당시 국민은행 채용 담당 팀장 부장 행장 구속 기소 했 한편 구속 인사 팀장 관련 은행 간부 입막음 명목 위로금 갹출 했 언론 보도 대해 국민은행 관계자 구속 팀장 친분 있 은행 종교 모임 중심 일부 부서장 돈 사실 오해 소지 있 의견 모금 중단 돈 해명 했 빵 따끈 기사 지방 선거 미리 리포트 변 휘 기자 저작권자 돈 리얼타임 뉴스 머니 투데이 무단 전재 및 배포 금지 \n"
     ]
    }
   ],
   "source": [
    "print(X_6m[0])"
   ]
  },
  {
   "cell_type": "code",
   "execution_count": null,
   "metadata": {},
   "outputs": [
    {
     "name": "stdout",
     "output_type": "stream",
     "text": [
      "1\n",
      "2\n"
     ]
    }
   ],
   "source": [
    "#각 요소씩 돌면서 split하고 2차원 배열 형태로 넣어준다. -> 이걸 나중에 월 별로 다 진행하면 된다.\n",
    "cnt = 1\n",
    "for data in [X_6m, X_7m, X_8m]:\n",
    "    print(cnt)\n",
    "    for x in data:\n",
    "        data = x.split(\" \")\n",
    "        data_array.append(data)\n",
    "    model = word2vec.Word2Vec(data_array, size=150, window=10, min_count=20, iter=5, sg=1)\n",
    "    cnt += 1"
   ]
  },
  {
   "cell_type": "code",
   "execution_count": null,
   "metadata": {},
   "outputs": [],
   "source": [
    "#벡터화 진행\n",
    "model.save(\"./word2vec.model\")\n",
    "print('done')"
   ]
  },
  {
   "cell_type": "markdown",
   "metadata": {},
   "source": [
    "# 9월달꺼 시작"
   ]
  },
  {
   "cell_type": "code",
   "execution_count": null,
   "metadata": {},
   "outputs": [],
   "source": [
    "model = word2vec.Word2Vec.load(\"./word2vec.model\")\n",
    "while True:\n",
    "    word = input(\"단어를 입력해보세요! : \")\n",
    "    if word == \"\":\n",
    "        break\n",
    "    try:\n",
    "        print(model.most_similar(positive=[word]))\n",
    "    except:\n",
    "        print(\"해당 되는 단어가 없습니다.\")"
   ]
  },
  {
   "cell_type": "code",
   "execution_count": null,
   "metadata": {},
   "outputs": [],
   "source": []
  }
 ],
 "metadata": {
  "kernelspec": {
   "display_name": "Python 3",
   "language": "python",
   "name": "python3"
  },
  "language_info": {
   "codemirror_mode": {
    "name": "ipython",
    "version": 3
   },
   "file_extension": ".py",
   "mimetype": "text/x-python",
   "name": "python",
   "nbconvert_exporter": "python",
   "pygments_lexer": "ipython3",
   "version": "3.6.5"
  }
 },
 "nbformat": 4,
 "nbformat_minor": 2
}
