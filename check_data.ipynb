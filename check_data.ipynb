{
 "cells": [
  {
   "cell_type": "code",
   "execution_count": 1,
   "metadata": {},
   "outputs": [],
   "source": [
    "import os, json, glob, sys, numpy as np\n",
    "import pandas as pd\n"
   ]
  },
  {
   "cell_type": "code",
   "execution_count": 9,
   "metadata": {},
   "outputs": [],
   "source": [
    "data_6m = pd.read_csv('./datas_after_tokenizer/6m/6m_after_prepro.csv', header=None)"
   ]
  },
  {
   "cell_type": "code",
   "execution_count": 10,
   "metadata": {},
   "outputs": [
    {
     "data": {
      "text/html": [
       "<div>\n",
       "<style scoped>\n",
       "    .dataframe tbody tr th:only-of-type {\n",
       "        vertical-align: middle;\n",
       "    }\n",
       "\n",
       "    .dataframe tbody tr th {\n",
       "        vertical-align: top;\n",
       "    }\n",
       "\n",
       "    .dataframe thead th {\n",
       "        text-align: right;\n",
       "    }\n",
       "</style>\n",
       "<table border=\"1\" class=\"dataframe\">\n",
       "  <thead>\n",
       "    <tr style=\"text-align: right;\">\n",
       "      <th></th>\n",
       "      <th>0</th>\n",
       "      <th>1</th>\n",
       "      <th>2</th>\n",
       "    </tr>\n",
       "  </thead>\n",
       "  <tbody>\n",
       "    <tr>\n",
       "      <th>0</th>\n",
       "      <td>신문A8면</td>\n",
       "      <td>미 월 실업 최저 연 회 금리 인상 무게 오류 우회 위한 함수 추가 년 최저 수준 ...</td>\n",
       "      <td>1</td>\n",
       "    </tr>\n",
       "    <tr>\n",
       "      <th>1</th>\n",
       "      <td>2018-06-01</td>\n",
       "      <td>채용 비리 의혹 윤종규 금융 회장 지난달 소환 오류 우회 위한 함수 추가 머니 투데...</td>\n",
       "      <td>1</td>\n",
       "    </tr>\n",
       "    <tr>\n",
       "      <th>2</th>\n",
       "      <td>2018-06-01</td>\n",
       "      <td>검찰 채용 비리 의혹 윤종규 금융 지주 회장 지난달 소환 종합 오류 우회 위한 함수...</td>\n",
       "      <td>1</td>\n",
       "    </tr>\n",
       "    <tr>\n",
       "      <th>3</th>\n",
       "      <td>2018-06-01</td>\n",
       "      <td>대한항공 직원 연대 홍대 시민 갑 근절 목소리 높여 오류 우회 위한 함수 추가 아이...</td>\n",
       "      <td>1</td>\n",
       "    </tr>\n",
       "    <tr>\n",
       "      <th>4</th>\n",
       "      <td>2018-06-01</td>\n",
       "      <td>채용 비리 의혹 함영주 은행장 구속 영장 기각 오류 우회 위한 함수 추가 법원 피 ...</td>\n",
       "      <td>1</td>\n",
       "    </tr>\n",
       "  </tbody>\n",
       "</table>\n",
       "</div>"
      ],
      "text/plain": [
       "            0                                                  1  2\n",
       "0       신문A8면  미 월 실업 최저 연 회 금리 인상 무게 오류 우회 위한 함수 추가 년 최저 수준 ...  1\n",
       "1  2018-06-01  채용 비리 의혹 윤종규 금융 회장 지난달 소환 오류 우회 위한 함수 추가 머니 투데...  1\n",
       "2  2018-06-01  검찰 채용 비리 의혹 윤종규 금융 지주 회장 지난달 소환 종합 오류 우회 위한 함수...  1\n",
       "3  2018-06-01  대한항공 직원 연대 홍대 시민 갑 근절 목소리 높여 오류 우회 위한 함수 추가 아이...  1\n",
       "4  2018-06-01  채용 비리 의혹 함영주 은행장 구속 영장 기각 오류 우회 위한 함수 추가 법원 피 ...  1"
      ]
     },
     "execution_count": 10,
     "metadata": {},
     "output_type": "execute_result"
    }
   ],
   "source": [
    "data_6m.head()"
   ]
  },
  {
   "cell_type": "code",
   "execution_count": 11,
   "metadata": {},
   "outputs": [
    {
     "name": "stdout",
     "output_type": "stream",
     "text": [
      "201432\n"
     ]
    }
   ],
   "source": [
    "print(len(data_6m.iloc[:, 0]))"
   ]
  },
  {
   "cell_type": "code",
   "execution_count": 12,
   "metadata": {},
   "outputs": [
    {
     "name": "stdout",
     "output_type": "stream",
     "text": [
      "0    3\n",
      "1    0\n",
      "2    2\n",
      "3    2\n",
      "4    0\n",
      "5    0\n",
      "6    0\n",
      "7    2\n",
      "8    1\n",
      "9    0\n",
      "Name: 2, dtype: int64\n"
     ]
    }
   ],
   "source": [
    "df_6m = data_6m.sample(frac=1).reset_index(drop=True)\n",
    "print(df_6m.iloc[0:10,2])"
   ]
  },
  {
   "cell_type": "code",
   "execution_count": 13,
   "metadata": {},
   "outputs": [
    {
     "data": {
      "text/html": [
       "<div>\n",
       "<style scoped>\n",
       "    .dataframe tbody tr th:only-of-type {\n",
       "        vertical-align: middle;\n",
       "    }\n",
       "\n",
       "    .dataframe tbody tr th {\n",
       "        vertical-align: top;\n",
       "    }\n",
       "\n",
       "    .dataframe thead th {\n",
       "        text-align: right;\n",
       "    }\n",
       "</style>\n",
       "<table border=\"1\" class=\"dataframe\">\n",
       "  <thead>\n",
       "    <tr style=\"text-align: right;\">\n",
       "      <th></th>\n",
       "      <th>1</th>\n",
       "      <th>2</th>\n",
       "    </tr>\n",
       "  </thead>\n",
       "  <tbody>\n",
       "    <tr>\n",
       "      <th>0</th>\n",
       "      <td>좋 날 송승헌 방부제 미모 이미지 원본 송승헌 인 스타 헤럴드 고명진 기자 송승헌 ...</td>\n",
       "      <td>3</td>\n",
       "    </tr>\n",
       "    <tr>\n",
       "      <th>1</th>\n",
       "      <td>인사말 한 메이린 작가 오류 우회 위한 함수 추가 서울 뉴시스 박진희 기자 중국 현...</td>\n",
       "      <td>0</td>\n",
       "    </tr>\n",
       "    <tr>\n",
       "      <th>2</th>\n",
       "      <td>취재 수첩 피로감 말 규제 개혁 오류 우회 위한 함수 추가 이지현 바이오 헬스 기자...</td>\n",
       "      <td>2</td>\n",
       "    </tr>\n",
       "    <tr>\n",
       "      <th>3</th>\n",
       "      <td>통신 돋보기 이통 도입 주파수 뭐 길래 오류 우회 위한 함수 추가 아이 뉴스 아이 ...</td>\n",
       "      <td>2</td>\n",
       "    </tr>\n",
       "    <tr>\n",
       "      <th>4</th>\n",
       "      <td>유가족 위로 김성태 권한 대행 오류 우회 위한 함수 추가 서울 뉴스 허경 기자 김성...</td>\n",
       "      <td>0</td>\n",
       "    </tr>\n",
       "  </tbody>\n",
       "</table>\n",
       "</div>"
      ],
      "text/plain": [
       "                                                   1  2\n",
       "0  좋 날 송승헌 방부제 미모 이미지 원본 송승헌 인 스타 헤럴드 고명진 기자 송승헌 ...  3\n",
       "1  인사말 한 메이린 작가 오류 우회 위한 함수 추가 서울 뉴시스 박진희 기자 중국 현...  0\n",
       "2  취재 수첩 피로감 말 규제 개혁 오류 우회 위한 함수 추가 이지현 바이오 헬스 기자...  2\n",
       "3  통신 돋보기 이통 도입 주파수 뭐 길래 오류 우회 위한 함수 추가 아이 뉴스 아이 ...  2\n",
       "4  유가족 위로 김성태 권한 대행 오류 우회 위한 함수 추가 서울 뉴스 허경 기자 김성...  0"
      ]
     },
     "execution_count": 13,
     "metadata": {},
     "output_type": "execute_result"
    }
   ],
   "source": [
    "df_6m.iloc[0:5, 1:3]"
   ]
  },
  {
   "cell_type": "code",
   "execution_count": 15,
   "metadata": {},
   "outputs": [
    {
     "name": "stdout",
     "output_type": "stream",
     "text": [
      "['좋 날 송승헌 방부제 미모 이미지 원본 송승헌 인 스타 헤럴드 고명진 기자 송승헌 방부제 미모 자랑 했 일 송승헌 자신 인 스타 그램 좋 날 글 함께 사진 장 게재 했 사진 속 송승헌 인자 미소 지으며 셀카 송승헌 그레이 컬러 셔츠 댄디 분위기 송승헌 지난 해 말 종영 드라마 블랙 출연 했 팬 커 뮤 난리난 방탄 워너 원 엑소 트와이스 리얼 직 캠 헤럴드 팝 네이버 헤럴드 무단 전재 및 배포 금지 '\n",
      " '인사말 한 메이린 작가 오류 우회 위한 함수 추가 서울 뉴시스 박진희 기자 중국 현대 미술가 서예가 한 메이린 작가 일 오후 서울 서초구 예술 전당 서예 박물관 열린 한 메이린 세계 순회 전 개막식 참석 해 인사말 사진 영상 제보 공감 언론 뉴시스 독자 여러분 소중 제보 뉴스 가치 화제 판단 사진 또는 영상 뉴시스 사진 영상 부 보내 적극 반영 저작권자 공감 언론 뉴시스 통신사 무단 전재 배포 금지 '\n",
      " '취재 수첩 피로감 말 규제 개혁 오류 우회 위한 함수 추가 이지현 바이오 헬스 기자 이지현 기자 규제 부분 이미 아시 얘기 해도 소용없 요즘 유전체 빅 데이터 헬스 케어 분야 연구 의료진 자주 말 미래 의학 밑그림 그린다는 열정 연구 몰두 해 이 자 조감 수개월 전 해도 의료법 의료기 기법 개인 정보 보호법 생명 윤리 법 규제 조항 열거 문제점 조목조목 지적 이 요즘 들어선 입 동안 이 지적 규제 해결 익명 개인 의료 정보 활용 불법 합법 가이드라인 업계 목소리 정부 묵묵부답 규제 막혀 의료 빅 데이터 병원 밖 나갈 없 지난달 국내 처음 허가 인공지능 의료 기기 의료 기술 평가 이중 규제 묶여 출시 일정 못 이렇 규제 개혁 말 자체 피로감 느낀다는 하소연 지난 일 한경 바이오 헬스 포럼 정책 토론회 참석 토론자 다르 시민 단체 반 해결 어렵 정부 노력 말 이 목소리 피로감 가득 규제 기술 한국 달리 미국 유럽 규제 기술 육성 한다 미국 식품 약국 년 환자 맞춤 의약품 대해서 허가 속도 임상 환자 숫자 정책 이후 분야 의약품 후보 물질 개 개 크 융합 의료 시대 대비 해 기술 검증 시스템 디지털 헬스 케어 기기 사전 인증 제도 도입 해 상용 시간 대폭 유전자 검사 제도 확대 계획 혁신 장 위한 규제 개혁 정부 기대 상당수 연구자 산업 실망 체념 수준 포기 국내 헬스 케어 스타트업 신생 벤처 기업 유전체 분야 인재 해외 이 발걸음 한국 다시 위해 정부 움직여야 순간 내일 모레 바로 지금 한경 닷컴 바로 글방 모바일 한경 구독 신청 한국 경제 무단 전재 및 배포 금지 '\n",
      " ...\n",
      " '포토 침울 김성태 안상수 오류 우회 위한 함수 추가 김성태 자유 국당 대표 권한 대행 원내대표 안상수 혁신 비대위 준비 위원장 일 오후 국회 열린 의원 총회 심각 표정 데일리안 박항구 기자 데일리안 박항구 기자 주 데일리안 단전 변형 무단 배포 금지 '\n",
      " '시작 오류 우회 위한 함수 추가 창원 연합뉴스 김동민 기자 경남 도지사 후보 일 오후 경남 창원시 의창구 창원 홀 방송 경남 도지사 선거 후보 토론회 촬영 왼쪽 민주당 김경수 후보 자유 국당 김태호 후보 미래 김유근 후보 기사 제보 및 문의 생활 흥 나 최신 트렌드 사진 구매 문의 '\n",
      " '결국 한국 박 박 계파 싸움 오류 우회 위한 함수 추가 김성태 혁신안 내홍 격화 일 오전 국회 자유 국당 회의실 열린 당 소속 초선 의원 모임 참석 의원 당 재건 및 개혁 관한 현안 정리 메모 연합뉴스 서울 경제 지도부 공백 자중지란 빠진 자유 국당 년 전 친 박계 비박 간 계파 싸움 돌아갈 조짐 김성태 원내대표 당 대표 권한 대행 혁신안 발표 계기 친 박계 비박 규합 위해 물밑 분주 움직인다는 관측 김 대행 중앙당 해체 발언 나온 이튿날 일 박 비박 표현 등장 해 주목 초선 의원 명 이날 국회 모임 당 쇄신 방안 논의 했 자리 참석 의원 휴대폰 사진 공개 됐 박 비박 싸움 격화 세력 화 필요 목 친다 적혀 특히 박 핵심 모인다 친 박계 좌장 서청원 의원 박계인 이장우 김진태 의원 거론 했 김진태 의원 이 대해 결국 내심 이것 잘못 당 해체 계파 싸움 당권 뭐 불편 심경 친 박 핵심 모인다 세력 필요 초선 모임 휴대폰 사진 논란 박 김 중심 결집 의혹 제기 박 김 더 혼란 와 범 박계 이 맞서 비박 좌장 김무성 의원 거론 했 김 의원 자신 김 대행 중심 결집 시도 의혹 제기 됐 선교 의원 이날 라디오 출연 해 혁신안 대해 좀 오버 같 그러 거대 프로젝트 위해서 김 원내대표 혹은 부대 표 그룹 너무 일 의심 말 했 다만 김무성 전 대표 거론 절대 정우택 의원 김 의원 차기 총선 불출마 선언 대해 이미 지난해 밝힌 의원 총회 공개 발표 당권 도전 위한 시각 당내 있 지적 했 비박 의원 김 대행 혁신안 힘 실으며 김성태 경계 했 김영우 의원 페이스북 통해 지금 유일 정통 가진 주체 김 대행 이 문제 당 혁신 과정 동력 크 위협 말 했 홍일표 의원 대행 더 혼란 올 없 우려 한편 김 대행 김 의원 정당 복당 파 의원 명 이날 오전 모여 혁신안 논의 호 기자 서울 경제 바로 이제 주식 시세 서울경제 확인 바로 블록체인 서울 경제 바로 저작권자 서울 경제 무단 전재 및 배포 금지 ']\n",
      "[[0. 0. 0. 1.]\n",
      " [1. 0. 0. 0.]\n",
      " [0. 0. 1. 0.]\n",
      " ...\n",
      " [1. 0. 0. 0.]\n",
      " [1. 0. 0. 0.]\n",
      " [1. 0. 0. 0.]]\n"
     ]
    }
   ],
   "source": [
    "X_6m = df_6m.iloc[:, 1].values\n",
    "y_6m = df_6m.iloc[:, 2].values\n",
    "print(X_6m)\n",
    "from keras.utils import np_utils\n",
    "nb_classes = len(set(y_6m))\n",
    "\n",
    "y_6m = np_utils.to_categorical(y_6m, nb_classes)\n",
    "print(y_6m)"
   ]
  },
  {
   "cell_type": "code",
   "execution_count": 16,
   "metadata": {},
   "outputs": [
    {
     "name": "stdout",
     "output_type": "stream",
     "text": [
      "3\n",
      "0\n",
      "2\n",
      "2\n",
      "0\n",
      "0\n",
      "0\n",
      "2\n",
      "1\n",
      "0\n",
      "1\n",
      "2\n",
      "0\n",
      "3\n",
      "0\n",
      "1\n",
      "3\n",
      "3\n",
      "0\n",
      "2\n",
      "2\n",
      "3\n",
      "1\n",
      "2\n",
      "0\n",
      "0\n",
      "0\n",
      "0\n",
      "0\n",
      "3\n",
      "1\n",
      "0\n",
      "0\n",
      "3\n",
      "3\n",
      "0\n",
      "3\n",
      "0\n",
      "0\n",
      "0\n",
      "0\n",
      "3\n",
      "0\n",
      "1\n",
      "0\n",
      "2\n",
      "0\n",
      "0\n",
      "0\n",
      "1\n",
      "3\n",
      "3\n",
      "0\n",
      "0\n",
      "2\n",
      "0\n",
      "1\n",
      "0\n",
      "0\n",
      "3\n",
      "0\n",
      "3\n",
      "3\n",
      "3\n",
      "0\n",
      "0\n",
      "3\n",
      "0\n",
      "0\n",
      "3\n",
      "0\n",
      "0\n",
      "2\n",
      "3\n",
      "0\n",
      "3\n",
      "0\n",
      "0\n",
      "2\n",
      "0\n",
      "2\n",
      "0\n",
      "3\n",
      "0\n",
      "0\n",
      "3\n",
      "0\n",
      "3\n",
      "0\n",
      "2\n",
      "0\n",
      "2\n",
      "0\n",
      "0\n",
      "1\n",
      "0\n",
      "3\n",
      "0\n",
      "0\n",
      "0\n"
     ]
    }
   ],
   "source": [
    "cnt = 1\n",
    "for i in y_6m:\n",
    "    print(i.argmax())\n",
    "    cnt += 1\n",
    "    if cnt > 100 : break"
   ]
  },
  {
   "cell_type": "code",
   "execution_count": null,
   "metadata": {},
   "outputs": [],
   "source": []
  }
 ],
 "metadata": {
  "kernelspec": {
   "display_name": "Python 3",
   "language": "python",
   "name": "python3"
  },
  "language_info": {
   "codemirror_mode": {
    "name": "ipython",
    "version": 3
   },
   "file_extension": ".py",
   "mimetype": "text/x-python",
   "name": "python",
   "nbconvert_exporter": "python",
   "pygments_lexer": "ipython3",
   "version": "3.6.5"
  }
 },
 "nbformat": 4,
 "nbformat_minor": 2
}
